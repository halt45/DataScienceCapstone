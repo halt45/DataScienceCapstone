{
    "cells": [
        {
            "metadata": {
                "collapsed": true
            },
            "cell_type": "markdown",
            "source": "# Data Science Professional Certification Capstone Course"
        },
        {
            "metadata": {},
            "cell_type": "markdown",
            "source": "<b>Author:</b> Tyler Halterman<br>\n<b>Date:</b> 08/02/2020<br>\n"
        },
        {
            "metadata": {},
            "cell_type": "markdown",
            "source": "### Table of Contents"
        },
        {
            "metadata": {},
            "cell_type": "markdown",
            "source": "<ol>\n    <li>Introduction</li>\n    <li>Data Importation</li>\n    <li>To be added..</li>\n</ol>"
        },
        {
            "metadata": {},
            "cell_type": "markdown",
            "source": "### Introduction"
        },
        {
            "metadata": {},
            "cell_type": "markdown",
            "source": "This Jupyter Notebook via IBM will be dedicated to the Data Science Capstone Course. More Information to be added a later time. "
        },
        {
            "metadata": {},
            "cell_type": "markdown",
            "source": "### Data Importation"
        },
        {
            "metadata": {},
            "cell_type": "code",
            "source": "import requests \nimport pandas as pd \nimport numpy as np \nimport random ",
            "execution_count": 2,
            "outputs": []
        },
        {
            "metadata": {},
            "cell_type": "code",
            "source": "",
            "execution_count": null,
            "outputs": []
        }
    ],
    "metadata": {
        "kernelspec": {
            "name": "python3",
            "display_name": "Python 3.6",
            "language": "python"
        },
        "language_info": {
            "name": "python",
            "version": "3.6.9",
            "mimetype": "text/x-python",
            "codemirror_mode": {
                "name": "ipython",
                "version": 3
            },
            "pygments_lexer": "ipython3",
            "nbconvert_exporter": "python",
            "file_extension": ".py"
        }
    },
    "nbformat": 4,
    "nbformat_minor": 1
}